{
 "cells": [
  {
   "cell_type": "code",
   "execution_count": 1,
   "metadata": {},
   "outputs": [],
   "source": [
    "#Librerias\n",
    "from mtcnn import MTCNN\n",
    "import cv2"
   ]
  },
  {
   "cell_type": "code",
   "execution_count": 2,
   "metadata": {},
   "outputs": [],
   "source": [
    "#Detector para puntos claves en el rostro\n",
    "detector = MTCNN()\n",
    "def image_classification(filepath):\n",
    "    image = cv2.imread(filepath)\n",
    "    image = cv2.cvtColor(image,cv2.IMREAD_COLOR)\n",
    "    result = detector.detect_faces(image)\n",
    "\n",
    "    x1 = result[0].get('keypoints').get('left_eye')[0]\n",
    "    x2 = result[0].get('keypoints').get('right_eye')[0]\n",
    "    y1 = result[0].get('keypoints').get('left_eye')[1]\n",
    "    y2 = result[0].get('keypoints').get('right_eye')[1]\n",
    "    print(x1)\n",
    "    print(x2)\n",
    "    print(y1)\n",
    "    print(y2)\n",
    "    y1 = y1 - 30\n",
    "    y2 = y2 + 30\n",
    "    x1 = x1 + 65\n",
    "    x2 = x2 - 65\n",
    "    img = image[y1:y2, x1:x2] #Recorte para obtener la zona entre ojos y parte superior de la nariz\n",
    "\n",
    "    gray_image = cv2.cvtColor(img,cv2.COLOR_BGR2GRAY)   \n",
    "    edged_image = cv2.Canny(gray_image, threshold1=100, threshold2=350) #Filtro para detectar bordes\n",
    "\n",
    "    cv2.imshow(\"img\",image)\n",
    "    cv2.imshow(\"img2\",img)\n",
    "    cv2.imshow(\"edges\",edged_image) #Mostrar imágenes con el proceso\n",
    "    cv2.waitKey(0)\n",
    "    if 255 in edged_image:\n",
    "        return True\n",
    "    else :\n",
    "        return False"
   ]
  },
  {
   "cell_type": "code",
   "execution_count": 6,
   "metadata": {},
   "outputs": [
    {
     "name": "stdout",
     "output_type": "stream",
     "text": [
      "1/1 [==============================] - 0s 20ms/step\n",
      "1/1 [==============================] - 0s 15ms/step\n",
      "1/1 [==============================] - 0s 14ms/step\n",
      "1/1 [==============================] - 0s 13ms/step\n",
      "1/1 [==============================] - 0s 15ms/step\n",
      "1/1 [==============================] - 0s 14ms/step\n",
      "1/1 [==============================] - 0s 14ms/step\n",
      "1/1 [==============================] - 0s 14ms/step\n",
      "1/1 [==============================] - 0s 13ms/step\n",
      "1/1 [==============================] - 0s 14ms/step\n",
      "1/1 [==============================] - 0s 14ms/step\n",
      "1/1 [==============================] - 0s 14ms/step\n",
      "2/2 [==============================] - 0s 11ms/step\n",
      "1/1 [==============================] - 0s 30ms/step\n",
      "379\n",
      "641\n",
      "486\n",
      "483\n"
     ]
    },
    {
     "data": {
      "text/plain": [
       "True"
      ]
     },
     "execution_count": 6,
     "metadata": {},
     "output_type": "execute_result"
    }
   ],
   "source": [
    "aux = image_classification('pruebaGafas/seed50142.png')\n",
    "aux"
   ]
  }
 ],
 "metadata": {
  "kernelspec": {
   "display_name": "cyclegan",
   "language": "python",
   "name": "python3"
  },
  "language_info": {
   "codemirror_mode": {
    "name": "ipython",
    "version": 3
   },
   "file_extension": ".py",
   "mimetype": "text/x-python",
   "name": "python",
   "nbconvert_exporter": "python",
   "pygments_lexer": "ipython3",
   "version": "3.8.5"
  },
  "orig_nbformat": 4
 },
 "nbformat": 4,
 "nbformat_minor": 2
}
