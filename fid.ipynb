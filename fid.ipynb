{
 "cells": [
  {
   "cell_type": "code",
   "execution_count": 3,
   "metadata": {},
   "outputs": [],
   "source": [
    "#Codigo obtenido a partir del libro Generative Adversarial Networks with Python Deep Learning Generative Models for Image Synthesis and Image Translation (Jason Brownlee).\n",
    "#Librerias\n",
    "from tensorflow.keras.applications.inception_v3 import InceptionV3,preprocess_input\n",
    "from skimage.transform import resize\n",
    "from scipy.linalg import sqrtm\n",
    "import numpy as np\n",
    "import os\n",
    "import glob\n",
    "\n",
    "from PIL import Image"
   ]
  },
  {
   "cell_type": "code",
   "execution_count": 4,
   "metadata": {},
   "outputs": [],
   "source": [
    "#Modelo InceptionV3 para obtener características\n",
    "model = InceptionV3(include_top=False,pooling='avg', input_shape=(128,128,3))"
   ]
  },
  {
   "cell_type": "code",
   "execution_count": 5,
   "metadata": {},
   "outputs": [],
   "source": [
    "#Función que reescala todas las imágenes al tamaño deseado.\n",
    "def scale_images(images,new_shape):\n",
    "    images_list = list()\n",
    "    for image in images:\n",
    "        new_image= resize(image,new_shape,0)\n",
    "\n",
    "        images_list.append(new_image)\n",
    "    return np.asarray(images_list)"
   ]
  },
  {
   "cell_type": "code",
   "execution_count": 6,
   "metadata": {},
   "outputs": [],
   "source": [
    "#Función que encapsula el cálculo del FID\n",
    "def calculate_fid(model,images1,images2):\n",
    "    act1 = model.predict(images1)\n",
    "    act2 = model.predict(images2)\n",
    "\n",
    "    mu1, sigma1 = act1.mean(axis=0), np.cov(act1,rowvar=False)\n",
    "    mu2, sigma2 = act2.mean(axis=0), np.cov(act2,rowvar=False)\n",
    "\n",
    "    ssdiff = np.sum((mu1-mu2)**2.0)\n",
    "\n",
    "    covmean = sqrtm(sigma1.dot(sigma2))\n",
    "\n",
    "    if np.iscomplexobj(covmean):\n",
    "        covmean = covmean.real\n",
    "    \n",
    "    fid = ssdiff + np.trace(sigma1 + sigma2 - 2.0 * covmean)\n",
    "    return fid"
   ]
  },
  {
   "cell_type": "code",
   "execution_count": 7,
   "metadata": {},
   "outputs": [],
   "source": [
    "#Función que carga todas las imágenes de una ruta.\n",
    "def load_images(path):\n",
    "    files = glob.glob(path)\n",
    "\n",
    "    im_list = [Image.open(img) for img in files]\n",
    "\n",
    "    arr_list = [np.array(img) for img in im_list]\n",
    "\n",
    "    images = np.stack(arr_list)\n",
    "    return images"
   ]
  },
  {
   "cell_type": "code",
   "execution_count": 15,
   "metadata": {},
   "outputs": [
    {
     "name": "stdout",
     "output_type": "stream",
     "text": [
      "25/25 [==============================] - 6s 21ms/step\n",
      "37/37 [==============================] - 1s 19ms/step\n"
     ]
    }
   ],
   "source": [
    "images1 = load_images('C:/stylegan/CycleGAN/fidGen/maleNoGl/*.png')\n",
    "images2 = load_images('C:/stylegan/CycleGAN/fidGen/vsYoungMale/*.png')\n",
    "\n",
    "\n",
    "\n",
    "images1 = images1.astype('float32')\n",
    "images2 = images2.astype('float32')\n",
    "\n",
    "images1 = scale_images(images1,(128,128,3))\n",
    "images2 = scale_images(images2,(128,128,3))\n",
    "\n",
    "images1 = preprocess_input(images1)\n",
    "images2 = preprocess_input(images2)\n",
    "\n",
    "fid = calculate_fid(model,images1,images2)\n",
    "\n",
    "\n"
   ]
  },
  {
   "cell_type": "code",
   "execution_count": 20,
   "metadata": {},
   "outputs": [
    {
     "name": "stdout",
     "output_type": "stream",
     "text": [
      "292.5738825183353\n"
     ]
    }
   ],
   "source": [
    "print(fid)"
   ]
  }
 ],
 "metadata": {
  "kernelspec": {
   "display_name": "Python 3.8.5 ('base')",
   "language": "python",
   "name": "python3"
  },
  "language_info": {
   "codemirror_mode": {
    "name": "ipython",
    "version": 3
   },
   "file_extension": ".py",
   "mimetype": "text/x-python",
   "name": "python",
   "nbconvert_exporter": "python",
   "pygments_lexer": "ipython3",
   "version": "3.8.5"
  },
  "orig_nbformat": 4,
  "vscode": {
   "interpreter": {
    "hash": "ad2bdc8ecc057115af97d19610ffacc2b4e99fae6737bb82f5d7fb13d2f2c186"
   }
  }
 },
 "nbformat": 4,
 "nbformat_minor": 2
}
